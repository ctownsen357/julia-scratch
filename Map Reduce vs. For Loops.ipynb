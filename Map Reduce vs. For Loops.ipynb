{
 "cells": [
  {
   "cell_type": "markdown",
   "metadata": {},
   "source": [
    "# Map Reduce vs. For Loops in Julia\n",
    "In this notebook I'm doing some exploring on different language features or testing performance for different approaches. When I'm using data it will likely be from the FBI's National Incident Based Reporting System (NIBRS) as it is a data set I've gotten familiar with. It is very interesting data too!"
   ]
  },
  {
   "cell_type": "markdown",
   "metadata": {},
   "source": [
    "## For loops vs. map & reduce in Julia\n",
    "I was currious about the performance difference between map & reduce vs. for loops. My example comes from the FBI Crime Data Explorer (CDE) data, where one has multiple years of data for any particular state and all of the downloaded ZIP files contain the same file names. It is, of course, easy to fix. We'll just download the data into several different folders for each year and load all of the CSV files into a JuliaDB table. Effectively doing what would be a union of all the CSV files for any given table. If you want more information about FBI CDE data you can [check them out here](https://crime-data-explorer.fr.cloud.gov/).\n",
    "\n",
    "In this test example I've got a list of unique file names and a range of ~ 20 years that I'll be downloading data for. I want to combine both lists into a single list that is effectively the equivalent of a `full join` in SQL. I'm also very curious about the performance difference between various methods in Julia."
   ]
  },
  {
   "cell_type": "code",
   "execution_count": 74,
   "metadata": {},
   "outputs": [
    {
     "name": "stdout",
     "output_type": "stream",
     "text": [
      "Julia Version 1.5.0\n",
      "Commit 96786e22cc (2020-08-01 23:44 UTC)\n",
      "Platform Info:\n",
      "  OS: macOS (x86_64-apple-darwin18.7.0)\n",
      "  CPU: Intel(R) Core(TM) i7-5557U CPU @ 3.10GHz\n",
      "  WORD_SIZE: 64\n",
      "  LIBM: libopenlibm\n",
      "  LLVM: libLLVM-9.0.1 (ORCJIT, broadwell)\n"
     ]
    }
   ],
   "source": [
    "versioninfo()"
   ]
  },
  {
   "cell_type": "code",
   "execution_count": 70,
   "metadata": {},
   "outputs": [
    {
     "data": {
      "text/plain": [
       "2-element Array{String,1}:\n",
       " \"f1.csv\"\n",
       " \"f2.csv\""
      ]
     },
     "execution_count": 70,
     "metadata": {},
     "output_type": "execute_result"
    }
   ],
   "source": [
    "years = [2000:2020;]\n",
    "files = [\"f1.csv\", \"f2.csv\"]"
   ]
  },
  {
   "cell_type": "markdown",
   "metadata": {},
   "source": [
    "Just calling `map` twice gives me all the combinations that I want but I want it in a single array so that it can be\n",
    "fed to **JuliaDB** via the `loadtable` method."
   ]
  },
  {
   "cell_type": "code",
   "execution_count": 71,
   "metadata": {},
   "outputs": [
    {
     "data": {
      "text/plain": [
       "2-element Array{Array{String,1},1}:\n",
       " [\"2000/f1.csv\", \"2001/f1.csv\", \"2002/f1.csv\", \"2003/f1.csv\", \"2004/f1.csv\", \"2005/f1.csv\", \"2006/f1.csv\", \"2007/f1.csv\", \"2008/f1.csv\", \"2009/f1.csv\"  …  \"2011/f1.csv\", \"2012/f1.csv\", \"2013/f1.csv\", \"2014/f1.csv\", \"2015/f1.csv\", \"2016/f1.csv\", \"2017/f1.csv\", \"2018/f1.csv\", \"2019/f1.csv\", \"2020/f1.csv\"]\n",
       " [\"2000/f2.csv\", \"2001/f2.csv\", \"2002/f2.csv\", \"2003/f2.csv\", \"2004/f2.csv\", \"2005/f2.csv\", \"2006/f2.csv\", \"2007/f2.csv\", \"2008/f2.csv\", \"2009/f2.csv\"  …  \"2011/f2.csv\", \"2012/f2.csv\", \"2013/f2.csv\", \"2014/f2.csv\", \"2015/f2.csv\", \"2016/f2.csv\", \"2017/f2.csv\", \"2018/f2.csv\", \"2019/f2.csv\", \"2020/f2.csv\"]"
      ]
     },
     "execution_count": 71,
     "metadata": {},
     "output_type": "execute_result"
    }
   ],
   "source": [
    "map(file -> \n",
    "        map(year -> string(year, \"/\", file), years)\n",
    "        , files)"
   ]
  },
  {
   "cell_type": "markdown",
   "metadata": {},
   "source": [
    "What I need to do is reduce this array of arrays into a single array."
   ]
  },
  {
   "cell_type": "code",
   "execution_count": 72,
   "metadata": {},
   "outputs": [
    {
     "data": {
      "text/plain": [
       "42-element Array{String,1}:\n",
       " \"2000/f1.csv\"\n",
       " \"2001/f1.csv\"\n",
       " \"2002/f1.csv\"\n",
       " \"2003/f1.csv\"\n",
       " \"2004/f1.csv\"\n",
       " \"2005/f1.csv\"\n",
       " \"2006/f1.csv\"\n",
       " \"2007/f1.csv\"\n",
       " \"2008/f1.csv\"\n",
       " \"2009/f1.csv\"\n",
       " \"2010/f1.csv\"\n",
       " \"2011/f1.csv\"\n",
       " \"2012/f1.csv\"\n",
       " ⋮\n",
       " \"2009/f2.csv\"\n",
       " \"2010/f2.csv\"\n",
       " \"2011/f2.csv\"\n",
       " \"2012/f2.csv\"\n",
       " \"2013/f2.csv\"\n",
       " \"2014/f2.csv\"\n",
       " \"2015/f2.csv\"\n",
       " \"2016/f2.csv\"\n",
       " \"2017/f2.csv\"\n",
       " \"2018/f2.csv\"\n",
       " \"2019/f2.csv\"\n",
       " \"2020/f2.csv\""
      ]
     },
     "execution_count": 72,
     "metadata": {},
     "output_type": "execute_result"
    }
   ],
   "source": [
    "reduce(append!,\n",
    "    map(file -> \n",
    "        map(year -> string(year, \"/\", file), years)\n",
    "        , files)\n",
    "    )"
   ]
  },
  {
   "cell_type": "markdown",
   "metadata": {},
   "source": [
    "### Now let's compare the performance of map,map,reduce to multiple for loops necessary to accomplish the same thing\n",
    "I was definitely surprised at how much faster and how reliably faster the `map` `reduce` is compared to the `for` `loop` solution. "
   ]
  },
  {
   "cell_type": "code",
   "execution_count": 67,
   "metadata": {},
   "outputs": [
    {
     "data": {
      "text/plain": [
       "BenchmarkTools.Trial: \n",
       "  memory estimate:  12.25 KiB\n",
       "  allocs estimate:  263\n",
       "  --------------\n",
       "  minimum time:     10.789 μs (0.00% GC)\n",
       "  median time:      11.929 μs (0.00% GC)\n",
       "  mean time:        12.300 μs (0.00% GC)\n",
       "  maximum time:     371.833 μs (0.00% GC)\n",
       "  --------------\n",
       "  samples:          10000\n",
       "  evals/sample:     1"
      ]
     },
     "execution_count": 67,
     "metadata": {},
     "output_type": "execute_result"
    }
   ],
   "source": [
    "using BenchmarkTools\n",
    "@benchmark reduce(append!,\n",
    "                map(file -> \n",
    "                        map(year -> string(year, \"/\", file), years)\n",
    "                    , files)\n",
    "            )"
   ]
  },
  {
   "cell_type": "code",
   "execution_count": 68,
   "metadata": {},
   "outputs": [
    {
     "data": {
      "text/plain": [
       "BenchmarkTools.Trial: \n",
       "  memory estimate:  12.80 KiB\n",
       "  allocs estimate:  294\n",
       "  --------------\n",
       "  minimum time:     25.565 μs (0.00% GC)\n",
       "  median time:      28.345 μs (0.00% GC)\n",
       "  mean time:        69.208 μs (0.00% GC)\n",
       "  maximum time:     400.271 ms (0.00% GC)\n",
       "  --------------\n",
       "  samples:          10000\n",
       "  evals/sample:     1"
      ]
     },
     "execution_count": 68,
     "metadata": {},
     "output_type": "execute_result"
    }
   ],
   "source": [
    "combos = []\n",
    "@benchmark for year in years\n",
    "                for file in files\n",
    "                    append!(combos, string(year, \"/\", file))\n",
    "                end\n",
    "            end"
   ]
  },
  {
   "cell_type": "code",
   "execution_count": null,
   "metadata": {},
   "outputs": [],
   "source": []
  }
 ],
 "metadata": {
  "kernelspec": {
   "display_name": "Julia 1.5.0",
   "language": "julia",
   "name": "julia-1.5"
  },
  "language_info": {
   "file_extension": ".jl",
   "mimetype": "application/julia",
   "name": "julia",
   "version": "1.5.0"
  }
 },
 "nbformat": 4,
 "nbformat_minor": 4
}
